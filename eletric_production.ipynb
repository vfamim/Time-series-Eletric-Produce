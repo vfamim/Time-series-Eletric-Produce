{
 "metadata": {
  "language_info": {
   "codemirror_mode": {
    "name": "ipython",
    "version": 3
   },
   "file_extension": ".py",
   "mimetype": "text/x-python",
   "name": "python",
   "nbconvert_exporter": "python",
   "pygments_lexer": "ipython3",
   "version": "3.8.5"
  },
  "orig_nbformat": 2,
  "kernelspec": {
   "name": "python385jvsc74a57bd02e02b94f9b95304d62228546b1da9ba00b7123b434108f0f0acbe93f19b800dd",
   "display_name": "Python 3.8.5 64-bit ('ts_env': virtualenvwrapper)"
  },
  "metadata": {
   "interpreter": {
    "hash": "2e02b94f9b95304d62228546b1da9ba00b7123b434108f0f0acbe93f19b800dd"
   }
  }
 },
 "nbformat": 4,
 "nbformat_minor": 2,
 "cells": [
  {
   "source": [
    "# 0.0. Imports"
   ],
   "cell_type": "markdown",
   "metadata": {}
  },
  {
   "cell_type": "code",
   "execution_count": 1,
   "metadata": {},
   "outputs": [],
   "source": [
    "# imports\n",
    "import pandas as pd\n",
    "import numpy as np\n",
    "# plots\n",
    "import matplotlib.pyplot as plt\n",
    "from darkstyle import dark_style as dks\n",
    "# statistic\n",
    "from statsmodels.tsa.stattools import adfuller\n",
    "from statsmodels.tsa.seasonal import seasonal_decompose\n",
    "# modeling\n",
    "from statsmodels.tsa.statespace.sarimax import SARIMAX\n",
    "# automation sarimax\n",
    "import pmdarima as pm\n",
    "# ignore\n",
    "import warnings\n",
    "warnings.filterwarnings('ignore')"
   ]
  },
  {
   "source": [
    "## 0.1. Functions"
   ],
   "cell_type": "markdown",
   "metadata": {}
  },
  {
   "cell_type": "code",
   "execution_count": 2,
   "metadata": {},
   "outputs": [],
   "source": [
    "# function 1\n",
    "def settings():\n",
    "    dks.dark_style()  # module for matplot darkstyle\n",
    "    plt.rcParams['figure.figsize'] = [10, 6]\n",
    "    plt.rcParams['font.size'] = 8\n",
    "    pd.options.display.max_columns = None\n",
    "    pd.set_option('display.expand_frame_repr', False)\n",
    "\n",
    "settings()"
   ]
  },
  {
   "source": [
    "## 0.2. Loading Dataset"
   ],
   "cell_type": "markdown",
   "metadata": {}
  },
  {
   "source": [
    "# loading dataset\n",
    "df = pd.read_csv('dataset/Electric_Production.csv',\n",
    "                 parse_dates=['DATE'], index_col='DATE', )"
   ],
   "cell_type": "code",
   "metadata": {},
   "execution_count": 3,
   "outputs": []
  },
  {
   "source": [
    "# 1.0. Features"
   ],
   "cell_type": "markdown",
   "metadata": {}
  },
  {
   "cell_type": "code",
   "execution_count": 4,
   "metadata": {},
   "outputs": [],
   "source": [
    "# time feature\n",
    "df['year'] = df.index.year\n",
    "df['month'] = df.index.month\n",
    "# log transformation\n",
    "df['log'] = np.log(df.IPG2211A2N)\n",
    "# percent change for two adjacents periods\n",
    "df['pct_change'] = df.log.pct_change().mul(100)\n",
    "# difference\n",
    "df['diff'] = df.log.diff()\n",
    "# drop null values\n",
    "df = df.dropna()"
   ]
  },
  {
   "cell_type": "code",
   "execution_count": null,
   "metadata": {},
   "outputs": [],
   "source": []
  }
 ]
}